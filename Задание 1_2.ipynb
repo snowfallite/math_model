{
 "cells": [
  {
   "cell_type": "markdown",
   "metadata": {},
   "source": [
    "## Выполните следующие задания на Python без использования сторонних библиотек"
   ]
  },
  {
   "cell_type": "markdown",
   "metadata": {},
   "source": [
    "## Задача 1\n",
    "\n",
    "Напишите программу, которая будет выводить на экран площадь квадрата и его периметр. Сторона квадрата будет равна 25.\n",
    "\n"
   ]
  },
  {
   "cell_type": "code",
   "execution_count": 28,
   "metadata": {},
   "outputs": [
    {
     "name": "stdout",
     "output_type": "stream",
     "text": [
      "Площадь квадрата -> 625\n",
      "Периметр квадрата -> 100\n"
     ]
    }
   ],
   "source": [
    "a = 25\n",
    "print(f\"Площадь квадрата -> {a ** 2}\")\n",
    "print(f\"Периметр квадрата -> {4 * 25}\")"
   ]
  },
  {
   "cell_type": "markdown",
   "metadata": {},
   "source": [
    "## Задача 2\n",
    "Напишите функцию, которая будет принимать два числа и считать сумму квадратов этих двух чисел, запишите своё вычисление в переменную squared. (Подсказка: Помните, чтобы записать результат функции в переменную, она должна этот результат внутри себя возвращать! Return). \n",
    "\n"
   ]
  },
  {
   "cell_type": "code",
   "execution_count": 39,
   "metadata": {},
   "outputs": [
    {
     "name": "stdout",
     "output_type": "stream",
     "text": [
      "Результат -> 8\n"
     ]
    }
   ],
   "source": [
    "def multiply_squares(a: int, b:int) -> int:\n",
    "    return a ** 2 + b ** 2\n",
    "\n",
    "squared = multiply_squares(a=2,b=2)\n",
    "print(f\"Результат -> {squared}\")\n"
   ]
  },
  {
   "cell_type": "markdown",
   "metadata": {},
   "source": [
    "## Задача 3\n",
    "Напишите функцию, которая будет принимать на вход список  [“male“,“male“,“female“,“male“,“male“,“female“,”female“] и возвращать его в обратном порядке. Запишите список в переменную new_list. Подсказка: Вам поможет обратная индексация к спискам ! [::-1]. \n",
    "\n"
   ]
  },
  {
   "cell_type": "code",
   "execution_count": 44,
   "metadata": {},
   "outputs": [
    {
     "name": "stdout",
     "output_type": "stream",
     "text": [
      "Результат -> ['female', 'female', 'male', 'male', 'female', 'male', 'male']\n"
     ]
    }
   ],
   "source": [
    "def return_reversed(list):\n",
    "    return list[::-1]\n",
    "\n",
    "list = [\"male\",\"male\",\"female\",\"male\",\"male\",\"female\",\"female\"]\n",
    "\n",
    "new_list = return_reversed(list=list)\n",
    "print(f\"Результат -> {new_list}\")"
   ]
  },
  {
   "cell_type": "markdown",
   "metadata": {},
   "source": [
    "## Задача 4\n",
    "Напишите функцию, которая будет принимать на вход список (new_list) и идти по нему в цикле. На выходе функция должна вывести на экран: Кол-во мужчин 4, Кол-во женщин 3.\n",
    "\n"
   ]
  },
  {
   "cell_type": "code",
   "execution_count": 52,
   "metadata": {},
   "outputs": [
    {
     "name": "stdout",
     "output_type": "stream",
     "text": [
      "Кол-во мужчин 4, Кол-во женщин 3\n"
     ]
    }
   ],
   "source": [
    "def count_gender(list):\n",
    "    male_count = 0\n",
    "    female_count = 0\n",
    "    for elem in list:\n",
    "        if elem == \"male\":\n",
    "            male_count += 1\n",
    "        else:\n",
    "            female_count += 1\n",
    "    print(f\"Кол-во мужчин {male_count}, Кол-во женщин {female_count}\")\n",
    "\n",
    "count_gender(new_list)"
   ]
  },
  {
   "cell_type": "markdown",
   "metadata": {},
   "source": [
    "## Задача 5\n",
    "Напишите функцию, которая будет принимать строку (Например: “female”), а возвращать словарь где ключи — это символы строки, а значения кол-во символов в строке. \n",
    "\n"
   ]
  },
  {
   "cell_type": "code",
   "execution_count": null,
   "metadata": {},
   "outputs": [],
   "source": []
  },
  {
   "cell_type": "markdown",
   "metadata": {},
   "source": [
    "## Задача 6\n",
    "Воспользуйтесь функцией range в Python и выведите на экран сумму квадратов от 1 до 100 (включительно). \n",
    "\n"
   ]
  },
  {
   "cell_type": "code",
   "execution_count": null,
   "metadata": {},
   "outputs": [],
   "source": [
    "#"
   ]
  },
  {
   "cell_type": "markdown",
   "metadata": {},
   "source": [
    "## Задача 7\n",
    "Укажите какой метод добавит значение в конец списка. Приведите пример.\n",
    "\n"
   ]
  },
  {
   "cell_type": "code",
   "execution_count": null,
   "metadata": {},
   "outputs": [],
   "source": [
    "#"
   ]
  },
  {
   "cell_type": "markdown",
   "metadata": {},
   "source": [
    "## Задача 8\n",
    "Как объединить два списка \"a\" и \"b\" в один новый список \"c\"? Приведите пример.\n",
    "\n"
   ]
  },
  {
   "cell_type": "code",
   "execution_count": null,
   "metadata": {},
   "outputs": [],
   "source": [
    "#"
   ]
  },
  {
   "cell_type": "markdown",
   "metadata": {},
   "source": [
    "## Задача 9\n",
    "Укажите какой метод посчитает количество значений 'a' в списке ['a', 'b', 'c', 'e', 'a', 'g', 'a', 'q']. Приведите пример.\n",
    "\n"
   ]
  },
  {
   "cell_type": "code",
   "execution_count": null,
   "metadata": {},
   "outputs": [],
   "source": [
    "#"
   ]
  },
  {
   "cell_type": "markdown",
   "metadata": {},
   "source": [
    "## Задача 10\n",
    "Исправьте следующий код, так чтобы он отрабатывал правильно"
   ]
  },
  {
   "cell_type": "code",
   "execution_count": null,
   "metadata": {},
   "outputs": [
    {
     "ename": "IndentationError",
     "evalue": "expected an indented block after 'if' statement on line 3 (620022445.py, line 4)",
     "output_type": "error",
     "traceback": [
      "  \u001b[36mCell\u001b[39m\u001b[36m \u001b[39m\u001b[32mIn[10]\u001b[39m\u001b[32m, line 4\u001b[39m\n\u001b[31m    \u001b[39m\u001b[31mprint(\"x меньше y\")\u001b[39m\n    ^\n\u001b[31mIndentationError\u001b[39m\u001b[31m:\u001b[39m expected an indented block after 'if' statement on line 3\n"
     ]
    }
   ],
   "source": [
    "x = 2**4\n",
    "y = 4**2\n",
    "if x < y:\n",
    "print(\"x меньше y\") \n",
    "else: \n",
    "print(\"x больше, либо равен y\")"
   ]
  }
 ],
 "metadata": {
  "kernelspec": {
   "display_name": "Python 3",
   "language": "python",
   "name": "python3"
  },
  "language_info": {
   "codemirror_mode": {
    "name": "ipython",
    "version": 3
   },
   "file_extension": ".py",
   "mimetype": "text/x-python",
   "name": "python",
   "nbconvert_exporter": "python",
   "pygments_lexer": "ipython3",
   "version": "3.12.0"
  }
 },
 "nbformat": 4,
 "nbformat_minor": 2
}
