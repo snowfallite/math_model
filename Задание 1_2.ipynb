{
 "cells": [
  {
   "cell_type": "markdown",
   "metadata": {},
   "source": [
    "## Выполните следующие задания на Python без использования сторонних библиотек"
   ]
  },
  {
   "cell_type": "markdown",
   "metadata": {},
   "source": [
    "## Задача 1\n",
    "\n",
    "Напишите программу, которая будет выводить на экран площадь квадрата и его периметр. Сторона квадрата будет равна 25.\n",
    "\n"
   ]
  },
  {
   "cell_type": "code",
   "execution_count": 28,
   "metadata": {},
   "outputs": [
    {
     "name": "stdout",
     "output_type": "stream",
     "text": [
      "Площадь квадрата -> 625\n",
      "Периметр квадрата -> 100\n"
     ]
    }
   ],
   "source": [
    "a = 25\n",
    "print(f\"Площадь квадрата -> {a ** 2}\")\n",
    "print(f\"Периметр квадрата -> {4 * 25}\")"
   ]
  },
  {
   "cell_type": "markdown",
   "metadata": {},
   "source": [
    "## Задача 2\n",
    "Напишите функцию, которая будет принимать два числа и считать сумму квадратов этих двух чисел, запишите своё вычисление в переменную squared. (Подсказка: Помните, чтобы записать результат функции в переменную, она должна этот результат внутри себя возвращать! Return). \n",
    "\n"
   ]
  },
  {
   "cell_type": "code",
   "execution_count": 39,
   "metadata": {},
   "outputs": [
    {
     "name": "stdout",
     "output_type": "stream",
     "text": [
      "Результат -> 8\n"
     ]
    }
   ],
   "source": [
    "def multiply_squares(a: int, b:int) -> int:\n",
    "    return a ** 2 + b ** 2\n",
    "\n",
    "squared = multiply_squares(a=2,b=2)\n",
    "print(f\"Результат -> {squared}\")\n"
   ]
  },
  {
   "cell_type": "markdown",
   "metadata": {},
   "source": [
    "## Задача 3\n",
    "Напишите функцию, которая будет принимать на вход список  [“male“,“male“,“female“,“male“,“male“,“female“,”female“] и возвращать его в обратном порядке. Запишите список в переменную new_list. Подсказка: Вам поможет обратная индексация к спискам ! [::-1]. \n",
    "\n"
   ]
  },
  {
   "cell_type": "code",
   "execution_count": null,
   "metadata": {},
   "outputs": [
    {
     "name": "stdout",
     "output_type": "stream",
     "text": [
      "Результат -> ['female', 'female', 'male', 'male', 'female', 'male', 'male']\n"
     ]
    }
   ],
   "source": [
    "def return_reversed(list) -> None:\n",
    "    return list[::-1]\n",
    "\n",
    "list = [\"male\",\"male\",\"female\",\"male\",\"male\",\"female\",\"female\"]\n",
    "\n",
    "new_list = return_reversed(list=list)\n",
    "print(f\"Результат -> {new_list}\")"
   ]
  },
  {
   "cell_type": "markdown",
   "metadata": {},
   "source": [
    "## Задача 4\n",
    "Напишите функцию, которая будет принимать на вход список (new_list) и идти по нему в цикле. На выходе функция должна вывести на экран: Кол-во мужчин 4, Кол-во женщин 3.\n",
    "\n"
   ]
  },
  {
   "cell_type": "code",
   "execution_count": 13,
   "metadata": {},
   "outputs": [
    {
     "name": "stdout",
     "output_type": "stream",
     "text": [
      "Кол-во мужчин 4, Кол-во женщин 3\n"
     ]
    }
   ],
   "source": [
    "def count_gender(list) -> None:\n",
    "    male_count = 0\n",
    "    female_count = 0\n",
    "    for elem in list:\n",
    "        if elem == \"male\":\n",
    "            male_count += 1\n",
    "        else:\n",
    "            female_count += 1\n",
    "    print(f\"Кол-во мужчин {male_count}, Кол-во женщин {female_count}\")\n",
    "\n",
    "count_gender(new_list)"
   ]
  },
  {
   "cell_type": "markdown",
   "metadata": {},
   "source": [
    "## Задача 5\n",
    "Напишите функцию, которая будет принимать строку (Например: “female”), а возвращать словарь где ключи — это символы строки, а значения кол-во символов в строке. \n",
    "\n"
   ]
  },
  {
   "cell_type": "code",
   "execution_count": 14,
   "metadata": {},
   "outputs": [
    {
     "name": "stdout",
     "output_type": "stream",
     "text": [
      "{'o': 3, 'p': 1, 'a': 9}\n"
     ]
    }
   ],
   "source": [
    "def char_operation(some_str) -> dict:\n",
    "    some_str = some_str.lower()\n",
    "    str_dict = {}\n",
    "    for c in some_str:\n",
    "        if not str_dict.get(c):\n",
    "            char_count = some_str.count(c)\n",
    "            str_dict[c] = char_count\n",
    "    return str_dict\n",
    "print(char_operation(\"ooopaaaaaaaaa\"))"
   ]
  },
  {
   "cell_type": "markdown",
   "metadata": {},
   "source": [
    "## Задача 6\n",
    "Воспользуйтесь функцией range в Python и выведите на экран сумму квадратов от 1 до 100 (включительно). \n",
    "\n"
   ]
  },
  {
   "cell_type": "code",
   "execution_count": 16,
   "metadata": {},
   "outputs": [
    {
     "name": "stdout",
     "output_type": "stream",
     "text": [
      "Сумма квадратов чисел от 1 до 100 -> 338350\n"
     ]
    }
   ],
   "source": [
    "sum = 0\n",
    "for i in range(1,101):\n",
    "    sum += i ** 2\n",
    "print(f\"Сумма квадратов чисел от 1 до 100 -> {sum}\")"
   ]
  },
  {
   "cell_type": "markdown",
   "metadata": {},
   "source": [
    "## Задача 7\n",
    "Укажите какой метод добавит значение в конец списка. Приведите пример.\n",
    "\n"
   ]
  },
  {
   "cell_type": "code",
   "execution_count": 18,
   "metadata": {},
   "outputs": [
    {
     "name": "stdout",
     "output_type": "stream",
     "text": [
      "Лист ДО добавления элемента в конец списка -> ['Artem', 'Osipov']\n",
      "Лист ПОСЛЕ добавления элемента в конец списка -> ['Artem', 'Osipov', 'Denisovich']\n"
     ]
    }
   ],
   "source": [
    "some_list = [\"Artem\", \"Osipov\"]\n",
    "print(f\"Лист ДО добавления элемента в конец списка -> {some_list}\")\n",
    "some_list.append(\"Denisovich\")\n",
    "print(f\"Лист ПОСЛЕ добавления элемента в конец списка -> {some_list}\")"
   ]
  },
  {
   "cell_type": "markdown",
   "metadata": {},
   "source": [
    "## Задача 8\n",
    "Как объединить два списка \"a\" и \"b\" в один новый список \"c\"? Приведите пример.\n",
    "\n"
   ]
  },
  {
   "cell_type": "code",
   "execution_count": 21,
   "metadata": {},
   "outputs": [
    {
     "name": "stdout",
     "output_type": "stream",
     "text": [
      "[1, 2, 3, 4, 5, 6]\n"
     ]
    }
   ],
   "source": [
    "a = [1,2,3]\n",
    "b = [4,5,6]\n",
    "\n",
    "print(a + b)"
   ]
  },
  {
   "cell_type": "markdown",
   "metadata": {},
   "source": [
    "## Задача 9\n",
    "Укажите какой метод посчитает количество значений 'a' в списке ['a', 'b', 'c', 'e', 'a', 'g', 'a', 'q']. Приведите пример.\n",
    "\n"
   ]
  },
  {
   "cell_type": "code",
   "execution_count": 26,
   "metadata": {},
   "outputs": [
    {
     "name": "stdout",
     "output_type": "stream",
     "text": [
      "Количество значений 'a' в листе -> 3\n"
     ]
    }
   ],
   "source": [
    "a = ['a', 'b', 'c', 'e', 'a', 'g', 'a', 'q']\n",
    "print(f\"Количество значений 'a' в листе -> {a.count('a')}\")"
   ]
  },
  {
   "cell_type": "markdown",
   "metadata": {},
   "source": [
    "## Задача 10\n",
    "Исправьте следующий код, так чтобы он отрабатывал правильно"
   ]
  },
  {
   "cell_type": "code",
   "execution_count": 27,
   "metadata": {},
   "outputs": [
    {
     "name": "stdout",
     "output_type": "stream",
     "text": [
      "x больше, либо равен y\n"
     ]
    }
   ],
   "source": [
    "x = 2**4\n",
    "y = 4**2\n",
    "if x < y:\n",
    "    print(\"x меньше y\") \n",
    "else: \n",
    "    print(\"x больше, либо равен y\")"
   ]
  }
 ],
 "metadata": {
  "kernelspec": {
   "display_name": "Python 3",
   "language": "python",
   "name": "python3"
  },
  "language_info": {
   "codemirror_mode": {
    "name": "ipython",
    "version": 3
   },
   "file_extension": ".py",
   "mimetype": "text/x-python",
   "name": "python",
   "nbconvert_exporter": "python",
   "pygments_lexer": "ipython3",
   "version": "3.12.0"
  }
 },
 "nbformat": 4,
 "nbformat_minor": 2
}
