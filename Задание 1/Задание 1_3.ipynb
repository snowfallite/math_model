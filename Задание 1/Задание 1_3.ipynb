{
 "cells": [
  {
   "cell_type": "markdown",
   "metadata": {},
   "source": [
    "## Выполните следующие задания на Python без использования сторонних библиотек"
   ]
  },
  {
   "cell_type": "markdown",
   "metadata": {},
   "source": [
    "## Задача 1\n",
    "Написать программу, которая будет выводить на экран числа Фибоначчи, которые меньше переданного числа."
   ]
  },
  {
   "cell_type": "code",
   "execution_count": null,
   "metadata": {},
   "outputs": [
    {
     "name": "stdout",
     "output_type": "stream",
     "text": [
      "0\n",
      "1\n",
      "1\n",
      "2\n",
      "3\n",
      "5\n",
      "8\n",
      "13\n",
      "21\n",
      "34\n",
      "55\n",
      "89\n"
     ]
    }
   ],
   "source": [
    "def fibo(some_num):\n",
    "    a = 0 \n",
    "    b = 1 \n",
    "    print(a)   \n",
    "    while b < some_num:\n",
    "        print(b)\n",
    "        a, b = b, a + b \n",
    "fibo(100)"
   ]
  },
  {
   "cell_type": "markdown",
   "metadata": {},
   "source": [
    "## Задача 2\n",
    "Напишите программу, которая на вход принимает список чисел и возвращает только уникальные значения из этого списка."
   ]
  },
  {
   "cell_type": "code",
   "execution_count": 9,
   "metadata": {},
   "outputs": [
    {
     "name": "stdout",
     "output_type": "stream",
     "text": [
      "[0, 1, 2, 3, 4, 7, 9]\n"
     ]
    }
   ],
   "source": [
    "def unique(list_nums) -> list:\n",
    "    unique_set = set(list_nums)\n",
    "    return list(unique_set)\n",
    "\n",
    "print(unique([1,2,3,4,3,4,3,4,3,4,3,7,7,7,9,0]))"
   ]
  },
  {
   "cell_type": "markdown",
   "metadata": {},
   "source": [
    "## Задача 3\n",
    "Напишите программу, которая переводит температуру в градусах Фаренгейта в градусы Цельсия.\n"
   ]
  },
  {
   "cell_type": "code",
   "execution_count": 10,
   "metadata": {},
   "outputs": [
    {
     "name": "stdout",
     "output_type": "stream",
     "text": [
      "212 Фаренгейт в Цельсия -> 100.0\n"
     ]
    }
   ],
   "source": [
    "def convert2celsium(fahrenheit):\n",
    "    celsius = (fahrenheit - 32) / 1.8\n",
    "    return celsius\n",
    "\n",
    "print(f\"212 Фаренгейт в Цельсия -> {convert2celsium(212)}\")"
   ]
  },
  {
   "cell_type": "markdown",
   "metadata": {},
   "source": [
    "## Задача 4\n",
    "Напишите программу, которая проверяет, является ли строка палиндромом без использования стандартных методов."
   ]
  },
  {
   "cell_type": "code",
   "execution_count": 22,
   "metadata": {},
   "outputs": [
    {
     "name": "stdout",
     "output_type": "stream",
     "text": [
      "Строка 'А роза упала на лапу Азора' полиндром? - True \n"
     ]
    }
   ],
   "source": [
    "import re\n",
    "def check_palindrome(some_str) -> bool:\n",
    "    cleaned_str = re.sub(r'[^a-zA-Z0-9а-яА-Я]', '', some_str).lower()\n",
    "    left = 0\n",
    "    right = len(cleaned_str) - 1\n",
    "\n",
    "    while left < right:\n",
    "        if cleaned_str[left] != cleaned_str[right]:\n",
    "            return False\n",
    "        left += 1\n",
    "        right -= 1\n",
    "    return True \n",
    "\n",
    "some_str = \"А роза упала на лапу Азора\"\n",
    "print(f\"Строка '{some_str}' полиндром? - {check_palindrome(some_str)} \")"
   ]
  }
 ],
 "metadata": {
  "kernelspec": {
   "display_name": "Python 3",
   "language": "python",
   "name": "python3"
  },
  "language_info": {
   "codemirror_mode": {
    "name": "ipython",
    "version": 3
   },
   "file_extension": ".py",
   "mimetype": "text/x-python",
   "name": "python",
   "nbconvert_exporter": "python",
   "pygments_lexer": "ipython3",
   "version": "3.12.0"
  }
 },
 "nbformat": 4,
 "nbformat_minor": 2
}
