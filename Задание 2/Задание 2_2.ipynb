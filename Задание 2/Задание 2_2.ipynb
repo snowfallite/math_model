{
 "cells": [
  {
   "cell_type": "code",
   "execution_count": 30,
   "metadata": {},
   "outputs": [],
   "source": [
    "import pandas as pd"
   ]
  },
  {
   "attachments": {},
   "cell_type": "markdown",
   "metadata": {},
   "source": [
    "# Работа с Pandas\n",
    "\n",
    "Вам предоставлен Dataset, в котором имеются следующие столбцы:\n",
    "\n",
    "App — название приложения\n",
    "\n",
    "Category — категория, которая относится к приложению\n",
    "\n",
    "Rating — рейтинг приложения\n",
    "\n",
    "Reviews — количество отзывов, оставленных юзерами по приложению\n",
    "\n",
    "Size — размер приложения\n",
    "\n",
    "Installs — количество установок приложения пользователями\n",
    "\n",
    "Type — тип приложения (по денежному критерию)\n",
    "\n",
    "Price — цена приложения\n",
    "\n",
    "Content Rating — возрастная группа приложения\n",
    "\n",
    "Genres — жанр приложения\n",
    "\n",
    "Last Updated — последнее обновление\n",
    "\n",
    "Current Ver — текущая версия\n",
    "\n",
    "Android Ver — версия Android"
   ]
  },
  {
   "attachments": {},
   "cell_type": "markdown",
   "metadata": {},
   "source": [
    "1. Загрузите ваш DataFrame в переменную df и выведете на экран первые пять строк "
   ]
  },
  {
   "cell_type": "code",
   "execution_count": 49,
   "metadata": {},
   "outputs": [
    {
     "data": {
      "text/html": [
       "<div>\n",
       "<style scoped>\n",
       "    .dataframe tbody tr th:only-of-type {\n",
       "        vertical-align: middle;\n",
       "    }\n",
       "\n",
       "    .dataframe tbody tr th {\n",
       "        vertical-align: top;\n",
       "    }\n",
       "\n",
       "    .dataframe thead th {\n",
       "        text-align: right;\n",
       "    }\n",
       "</style>\n",
       "<table border=\"1\" class=\"dataframe\">\n",
       "  <thead>\n",
       "    <tr style=\"text-align: right;\">\n",
       "      <th></th>\n",
       "      <th>App</th>\n",
       "      <th>Category</th>\n",
       "      <th>Rating</th>\n",
       "      <th>Reviews</th>\n",
       "      <th>Size</th>\n",
       "      <th>Installs</th>\n",
       "      <th>Type</th>\n",
       "      <th>Price</th>\n",
       "      <th>Content Rating</th>\n",
       "      <th>Genres</th>\n",
       "      <th>Last Updated</th>\n",
       "      <th>Current Ver</th>\n",
       "      <th>Android Ver</th>\n",
       "      <th>Unnamed: 13</th>\n",
       "      <th>Unnamed: 14</th>\n",
       "    </tr>\n",
       "  </thead>\n",
       "  <tbody>\n",
       "    <tr>\n",
       "      <th>0</th>\n",
       "      <td>Photo Editor &amp; Candy Camera &amp; Grid &amp; ScrapBook</td>\n",
       "      <td>ART_AND_DESIGN</td>\n",
       "      <td>4,1</td>\n",
       "      <td>159</td>\n",
       "      <td>19M</td>\n",
       "      <td>10,000+</td>\n",
       "      <td>Free</td>\n",
       "      <td>0</td>\n",
       "      <td>Everyone</td>\n",
       "      <td>Art &amp; Design</td>\n",
       "      <td>January 7, 2018</td>\n",
       "      <td>1,00.0</td>\n",
       "      <td>4.0.3 and up</td>\n",
       "      <td>NaN</td>\n",
       "      <td>NaN</td>\n",
       "    </tr>\n",
       "    <tr>\n",
       "      <th>1</th>\n",
       "      <td>Coloring book moana</td>\n",
       "      <td>ART_AND_DESIGN</td>\n",
       "      <td>3,9</td>\n",
       "      <td>967</td>\n",
       "      <td>14M</td>\n",
       "      <td>500,000+</td>\n",
       "      <td>Free</td>\n",
       "      <td>0</td>\n",
       "      <td>Everyone</td>\n",
       "      <td>Art &amp; Design;Pretend Play</td>\n",
       "      <td>January 15, 2018</td>\n",
       "      <td>2,00.0</td>\n",
       "      <td>4.0.3 and up</td>\n",
       "      <td>NaN</td>\n",
       "      <td>NaN</td>\n",
       "    </tr>\n",
       "    <tr>\n",
       "      <th>2</th>\n",
       "      <td>U Launcher Lite â FREE Live Cool Themes, Hid...</td>\n",
       "      <td>ART_AND_DESIGN</td>\n",
       "      <td>4,7</td>\n",
       "      <td>87510</td>\n",
       "      <td>8,7M</td>\n",
       "      <td>5,000,000+</td>\n",
       "      <td>Free</td>\n",
       "      <td>0</td>\n",
       "      <td>Everyone</td>\n",
       "      <td>Art &amp; Design</td>\n",
       "      <td>August 1, 2018</td>\n",
       "      <td>1,20.4</td>\n",
       "      <td>4.0.3 and up</td>\n",
       "      <td>NaN</td>\n",
       "      <td>NaN</td>\n",
       "    </tr>\n",
       "    <tr>\n",
       "      <th>3</th>\n",
       "      <td>Sketch - Draw &amp; Paint</td>\n",
       "      <td>ART_AND_DESIGN</td>\n",
       "      <td>4,5</td>\n",
       "      <td>215644</td>\n",
       "      <td>25M</td>\n",
       "      <td>50,000,000+</td>\n",
       "      <td>Free</td>\n",
       "      <td>0</td>\n",
       "      <td>Teen</td>\n",
       "      <td>Art &amp; Design</td>\n",
       "      <td>June 8, 2018</td>\n",
       "      <td>Varies with device</td>\n",
       "      <td>4.2 and up</td>\n",
       "      <td>NaN</td>\n",
       "      <td>NaN</td>\n",
       "    </tr>\n",
       "    <tr>\n",
       "      <th>4</th>\n",
       "      <td>Pixel Draw - Number Art Coloring Book</td>\n",
       "      <td>ART_AND_DESIGN</td>\n",
       "      <td>4,3</td>\n",
       "      <td>967</td>\n",
       "      <td>2,8M</td>\n",
       "      <td>100,000+</td>\n",
       "      <td>Free</td>\n",
       "      <td>0</td>\n",
       "      <td>Everyone</td>\n",
       "      <td>Art &amp; Design;Creativity</td>\n",
       "      <td>June 20, 2018</td>\n",
       "      <td>1,1</td>\n",
       "      <td>4.4 and up</td>\n",
       "      <td>NaN</td>\n",
       "      <td>NaN</td>\n",
       "    </tr>\n",
       "  </tbody>\n",
       "</table>\n",
       "</div>"
      ],
      "text/plain": [
       "                                                 App        Category Rating  \\\n",
       "0     Photo Editor & Candy Camera & Grid & ScrapBook  ART_AND_DESIGN    4,1   \n",
       "1                                Coloring book moana  ART_AND_DESIGN    3,9   \n",
       "2  U Launcher Lite â FREE Live Cool Themes, Hid...  ART_AND_DESIGN    4,7   \n",
       "3                              Sketch - Draw & Paint  ART_AND_DESIGN    4,5   \n",
       "4              Pixel Draw - Number Art Coloring Book  ART_AND_DESIGN    4,3   \n",
       "\n",
       "  Reviews  Size     Installs  Type Price Content Rating  \\\n",
       "0     159   19M      10,000+  Free     0       Everyone   \n",
       "1     967   14M     500,000+  Free     0       Everyone   \n",
       "2   87510  8,7M   5,000,000+  Free     0       Everyone   \n",
       "3  215644   25M  50,000,000+  Free     0           Teen   \n",
       "4     967  2,8M     100,000+  Free     0       Everyone   \n",
       "\n",
       "                      Genres      Last Updated         Current Ver  \\\n",
       "0               Art & Design   January 7, 2018              1,00.0   \n",
       "1  Art & Design;Pretend Play  January 15, 2018              2,00.0   \n",
       "2               Art & Design    August 1, 2018              1,20.4   \n",
       "3               Art & Design      June 8, 2018  Varies with device   \n",
       "4    Art & Design;Creativity     June 20, 2018                 1,1   \n",
       "\n",
       "    Android Ver  Unnamed: 13  Unnamed: 14  \n",
       "0  4.0.3 and up          NaN          NaN  \n",
       "1  4.0.3 and up          NaN          NaN  \n",
       "2  4.0.3 and up          NaN          NaN  \n",
       "3    4.2 and up          NaN          NaN  \n",
       "4    4.4 and up          NaN          NaN  "
      ]
     },
     "execution_count": 49,
     "metadata": {},
     "output_type": "execute_result"
    }
   ],
   "source": [
    "df = pd.read_csv(\"googleplaystore.csv\", encoding='latin1')\n",
    "df.head()\n"
   ]
  },
  {
   "attachments": {},
   "cell_type": "markdown",
   "metadata": {},
   "source": [
    "2. Отобразите количество строк и столбцов в DataFrame"
   ]
  },
  {
   "cell_type": "code",
   "execution_count": 32,
   "metadata": {},
   "outputs": [
    {
     "name": "stdout",
     "output_type": "stream",
     "text": [
      "Количество строк : 10842, Количество столбцов : 15\n"
     ]
    }
   ],
   "source": [
    "info = df.shape\n",
    "print(f\"Количество строк : {info[0]}, Количество столбцов : {info[1]}\")"
   ]
  },
  {
   "attachments": {},
   "cell_type": "markdown",
   "metadata": {},
   "source": [
    "3. Выведете основную информацию о DataFrame методом info(). Проанализируйте есть ли пропуски в столбцах. Напишите вывод о том, какие столбцы содержат пропуски"
   ]
  },
  {
   "cell_type": "code",
   "execution_count": 33,
   "metadata": {},
   "outputs": [
    {
     "name": "stdout",
     "output_type": "stream",
     "text": [
      "<class 'pandas.core.frame.DataFrame'>\n",
      "RangeIndex: 10842 entries, 0 to 10841\n",
      "Data columns (total 15 columns):\n",
      " #   Column          Non-Null Count  Dtype  \n",
      "---  ------          --------------  -----  \n",
      " 0   App             10841 non-null  object \n",
      " 1   Category        10841 non-null  object \n",
      " 2   Rating          9367 non-null   object \n",
      " 3   Reviews         10841 non-null  object \n",
      " 4   Size            10841 non-null  object \n",
      " 5   Installs        10841 non-null  object \n",
      " 6   Type            10840 non-null  object \n",
      " 7   Price           10841 non-null  object \n",
      " 8   Content Rating  10840 non-null  object \n",
      " 9   Genres          10841 non-null  object \n",
      " 10  Last Updated    10841 non-null  object \n",
      " 11  Current Ver     10833 non-null  object \n",
      " 12  Android Ver     10838 non-null  object \n",
      " 13  Unnamed: 13     0 non-null      float64\n",
      " 14  Unnamed: 14     0 non-null      float64\n",
      "dtypes: float64(2), object(13)\n",
      "memory usage: 1.2+ MB\n"
     ]
    },
    {
     "data": {
      "text/plain": [
       "'\\nПо выводу df.info(), можно сказать что Unnamed 13,14 - полностью пустые столбцы. Rating 1475 пропусков и небольшое количество в столбцах Type,Content Rating, \\nCurrent Ver, Android Ver\\n\\n'"
      ]
     },
     "execution_count": 33,
     "metadata": {},
     "output_type": "execute_result"
    }
   ],
   "source": [
    "df.info()\n",
    "'''\n",
    "По выводу df.info(), можно сказать что Unnamed 13,14 - полностью пустые столбцы. Rating 1475 пропусков и небольшое количество в столбцах Type,Content Rating, \n",
    "Current Ver, Android Ver\n",
    "\n",
    "'''"
   ]
  },
  {
   "attachments": {},
   "cell_type": "markdown",
   "metadata": {},
   "source": [
    "4. Удалите или замените пропуски известными вам методами. (Подсказка: `dropna()` или `fillna()`, выбор того или иного метода должен быть аргументирован)."
   ]
  },
  {
   "cell_type": "code",
   "execution_count": 34,
   "metadata": {},
   "outputs": [],
   "source": [
    "# Столбцы Unnamed: 13-14 полностью пустые поэтому их можно удалить\n",
    "df = df.drop(columns=['Unnamed: 13', 'Unnamed: 14'])\n",
    "\n",
    "# В столбце Rating достаточно много столбцов с na. Мне кажется что данный столбец является важным для анализа датасета, поэтому следует удалить все записи с na\n",
    "df.dropna(subset=['Rating'], inplace=True)\n",
    "# Название важно, поэтому удаляем\n",
    "df = df.dropna(subset=['App'])\n",
    "\n",
    "# Для столбца Type можно заполнить пустые значением Unknown. Аналогично для Content Rating, Current Ver, Android Ver, Category, Size, Price, Genres,Last updated.\n",
    "# Для installs и reviews поставим 0\n",
    "df['Type'] = df['Type'].fillna('Unknown')\n",
    "df['Content Rating'] = df['Content Rating'].fillna('Unknown')\n",
    "df['Current Ver'] = df['Current Ver'].fillna('Unknown')\n",
    "df['Android Ver'] = df['Android Ver'].fillna('Unknown')\n",
    "df['Category'] = df['Category'].fillna('Unknown')\n",
    "df['Size'] = df['Size'].fillna('Unknown')\n",
    "df['Installs'] = df['Installs'].fillna(0)\n",
    "df['Reviews'] = df['Reviews'].fillna(0)\n",
    "df['Price'] = df['Price'].fillna('Unknown')\n",
    "df['Genres'] = df['Genres'].fillna('Unknown')\n",
    "df['Last Updated'] = df['Last Updated'].fillna('Unknown')\n",
    "\n",
    "\n",
    "\n"
   ]
  },
  {
   "attachments": {},
   "cell_type": "markdown",
   "metadata": {},
   "source": [
    "5. Проверьте нет ли пропусков после произведенной обработки"
   ]
  },
  {
   "cell_type": "code",
   "execution_count": 35,
   "metadata": {},
   "outputs": [
    {
     "name": "stdout",
     "output_type": "stream",
     "text": [
      "App               0\n",
      "Category          0\n",
      "Rating            0\n",
      "Reviews           0\n",
      "Size              0\n",
      "Installs          0\n",
      "Type              0\n",
      "Price             0\n",
      "Content Rating    0\n",
      "Genres            0\n",
      "Last Updated      0\n",
      "Current Ver       0\n",
      "Android Ver       0\n",
      "dtype: int64\n"
     ]
    }
   ],
   "source": [
    "print(df.isna().sum())\n",
    "# Все na убраны"
   ]
  },
  {
   "attachments": {},
   "cell_type": "markdown",
   "metadata": {},
   "source": [
    "6. Выведите на экран минимум и максимум из столбца `Price`:"
   ]
  },
  {
   "cell_type": "code",
   "execution_count": 36,
   "metadata": {},
   "outputs": [
    {
     "name": "stdout",
     "output_type": "stream",
     "text": [
      "Минимальная цена : 0\n",
      "Максимальная цена : 9,99\n"
     ]
    }
   ],
   "source": [
    "print(f\"Минимальная цена : {df['Price'].min()}\")\n",
    "print(f\"Максимальная цена : {df['Price'].max()}\")"
   ]
  },
  {
   "attachments": {},
   "cell_type": "markdown",
   "metadata": {},
   "source": [
    "7. Выведите на экран медиану и среднее арифметическое столбцов:\n",
    " - Rating\n",
    " - Reviews"
   ]
  },
  {
   "cell_type": "code",
   "execution_count": 37,
   "metadata": {},
   "outputs": [
    {
     "name": "stdout",
     "output_type": "stream",
     "text": [
      "Rating:\n",
      "  Среднее: 4.193284219517404\n",
      "  Медиана: 4.3\n",
      "Reviews:\n",
      "  Среднее: 514368.89899636986\n",
      "  Медиана: 5930.5\n"
     ]
    }
   ],
   "source": [
    "\n",
    "df['Rating'] = df['Rating'].str.replace(',', '.').astype(float)\n",
    "df.loc[10473, 'Reviews'] = 3_000_000 # Замена 3M на 3_000_000. Я думаю так\n",
    "df['Reviews'] = df['Reviews'].astype(int)\n",
    "print(\"Rating:\")\n",
    "print(\"  Среднее:\", df['Rating'].mean())\n",
    "print(\"  Медиана:\", df['Rating'].median())\n",
    "\n",
    "print(\"Reviews:\")\n",
    "print(\"  Среднее:\", df['Reviews'].mean())\n",
    "print(\"  Медиана:\", df['Reviews'].median())\n"
   ]
  },
  {
   "attachments": {},
   "cell_type": "markdown",
   "metadata": {},
   "source": [
    "8. Выведите на экран все уникальные значения категориального столбца Genres"
   ]
  },
  {
   "cell_type": "code",
   "execution_count": 38,
   "metadata": {},
   "outputs": [
    {
     "name": "stdout",
     "output_type": "stream",
     "text": [
      "Достоверное количество уникальных жанров : 53\n",
      "Недостоверное количество : 115\n",
      "Уникальные жанры:\n"
     ]
    },
    {
     "data": {
      "text/plain": [
       "{'Action',\n",
       " 'Action & Adventure',\n",
       " 'Adventure',\n",
       " 'Arcade',\n",
       " 'Art & Design',\n",
       " 'Auto & Vehicles',\n",
       " 'Beauty',\n",
       " 'Board',\n",
       " 'Books & Reference',\n",
       " 'Brain Games',\n",
       " 'Business',\n",
       " 'Card',\n",
       " 'Casino',\n",
       " 'Casual',\n",
       " 'Comics',\n",
       " 'Communication',\n",
       " 'Creativity',\n",
       " 'Dating',\n",
       " 'Education',\n",
       " 'Educational',\n",
       " 'Entertainment',\n",
       " 'Events',\n",
       " 'Finance',\n",
       " 'Food & Drink',\n",
       " 'Health & Fitness',\n",
       " 'House & Home',\n",
       " 'Libraries & Demo',\n",
       " 'Lifestyle',\n",
       " 'Maps & Navigation',\n",
       " 'Medical',\n",
       " 'Music',\n",
       " 'Music & Audio',\n",
       " 'Music & Video',\n",
       " 'News & Magazines',\n",
       " 'Parenting',\n",
       " 'Personalization',\n",
       " 'Photography',\n",
       " 'Pretend Play',\n",
       " 'Productivity',\n",
       " 'Puzzle',\n",
       " 'Racing',\n",
       " 'Role Playing',\n",
       " 'Shopping',\n",
       " 'Simulation',\n",
       " 'Social',\n",
       " 'Sports',\n",
       " 'Strategy',\n",
       " 'Tools',\n",
       " 'Travel & Local',\n",
       " 'Trivia',\n",
       " 'Video Players & Editors',\n",
       " 'Weather',\n",
       " 'Word'}"
      ]
     },
     "execution_count": 38,
     "metadata": {},
     "output_type": "execute_result"
    }
   ],
   "source": [
    "# В категориях может быть записано несколько категорий, поэтому есть смысл создать множество и разбить все по ; и вывести уникальные значения\n",
    "all_genres = set()\n",
    "df = df.drop(index=10473) # Удалю данную запись потому что она битая и мешает рассчетам\n",
    "df['Genres'].str.split(';').apply(all_genres.update)\n",
    "\n",
    "print(f\"Достоверное количество уникальных жанров : {len(all_genres)}\")\n",
    "\n",
    "print(f\"Недостоверное количество : {len(df['Genres'].unique())}\")\n",
    "print(\"Уникальные жанры:\")\n",
    "all_genres\n",
    "\n",
    "\n"
   ]
  },
  {
   "attachments": {},
   "cell_type": "markdown",
   "metadata": {},
   "source": [
    "9. Сгруппируйте данные по столбцу `Genres` и посчитайте для каждого жанра средний и медианный рейтинг. Представьте результат в виде нового DataFrame,который будет сохранен в переменную `grouped_df`, где одна колонка будет содержать названия жарнов, а две другие буду содержать в себе средний и медианный рейтинги. Напишите краткий вывод."
   ]
  },
  {
   "cell_type": "code",
   "execution_count": 39,
   "metadata": {},
   "outputs": [
    {
     "name": "stdout",
     "output_type": "stream",
     "text": [
      "                      Genre  Average_Rating  Median_Rating\n",
      "0                    Action        4.286667           4.30\n",
      "1        Action & Adventure        4.315556           4.30\n",
      "2                 Adventure        4.219101           4.30\n",
      "3                    Arcade        4.308072           4.40\n",
      "4              Art & Design        4.349231           4.40\n",
      "5           Auto & Vehicles        4.190411           4.30\n",
      "6                    Beauty        4.278571           4.30\n",
      "7                     Board        4.300000           4.30\n",
      "8         Books & Reference        4.344444           4.50\n",
      "9               Brain Games        4.362319           4.40\n",
      "10                 Business        4.121452           4.30\n",
      "11                     Card        4.102083           4.30\n",
      "12                   Casino        4.286486           4.40\n",
      "13                   Casual        4.185115           4.30\n",
      "14                   Comics        4.155172           4.40\n",
      "15            Communication        4.158663           4.30\n",
      "16               Creativity        4.311111           4.40\n",
      "17                   Dating        3.970769           4.10\n",
      "18                Education        4.311642           4.40\n",
      "19              Educational        4.109709           4.20\n",
      "20            Entertainment        4.100347           4.20\n",
      "21                   Events        4.435556           4.50\n",
      "22                  Finance        4.131889           4.30\n",
      "23             Food & Drink        4.166972           4.30\n",
      "24         Health & Fitness        4.277258           4.50\n",
      "25             House & Home        4.197368           4.30\n",
      "26         Libraries & Demo        4.178462           4.20\n",
      "27                Lifestyle        4.095556           4.20\n",
      "28        Maps & Navigation        4.051613           4.20\n",
      "29                  Medical        4.189143           4.30\n",
      "30                    Music        4.254167           4.35\n",
      "31            Music & Audio        4.300000           4.30\n",
      "32            Music & Video        4.227660           4.20\n",
      "33         News & Magazines        4.132189           4.20\n",
      "34                Parenting        4.300000           4.40\n",
      "35          Personalization        4.335987           4.40\n",
      "36              Photography        4.192114           4.30\n",
      "37             Pretend Play        4.246067           4.30\n",
      "38             Productivity        4.211396           4.30\n",
      "39                   Puzzle        4.386486           4.40\n",
      "40                   Racing        4.198246           4.20\n",
      "41             Role Playing        4.268908           4.30\n",
      "42                 Shopping        4.259664           4.30\n",
      "43               Simulation        4.172170           4.25\n",
      "44                   Social        4.255598           4.30\n",
      "45                   Sports        4.237982           4.30\n",
      "46                 Strategy        4.256075           4.30\n",
      "47                    Tools        4.047411           4.20\n",
      "48           Travel & Local        4.109292           4.30\n",
      "49                   Trivia        4.039286           4.25\n",
      "50  Video Players & Editors        4.063190           4.20\n",
      "51                  Weather        4.244000           4.30\n",
      "52                     Word        4.410714           4.40\n"
     ]
    },
    {
     "data": {
      "text/plain": [
       "'\\nСредний рейтинг большинства жанров колеблется примерно от 4.0 до 4.4\\n\\nЖанры с наивысшим средним рейтингом:\\nEvents — 4.436\\nBrain Games — 4.362\\nPuzzle — 4.386\\nArt & Design — 4.349\\nBooks & Reference — 4.344\\n\\nЖанры с низким рейтингом:\\nDating — 3.97\\nTools — 4.05\\nTrivia — 4.04\\n'"
      ]
     },
     "execution_count": 39,
     "metadata": {},
     "output_type": "execute_result"
    }
   ],
   "source": [
    "df_exploded = df.copy()\n",
    "df_exploded = df_exploded.assign(Genres=df_exploded['Genres'].str.split(';')).explode('Genres')\n",
    "grouped_df = df_exploded.groupby('Genres')['Rating'].agg(['mean', 'median']).reset_index()\n",
    "grouped_df.columns = ['Genre', 'Average_Rating', 'Median_Rating']\n",
    "print(grouped_df)\n",
    "\n",
    "\n",
    "'''\n",
    "Средний рейтинг большинства жанров колеблется примерно от 4.0 до 4.4\n",
    "\n",
    "Жанры с наивысшим средним рейтингом:\n",
    "Events — 4.436\n",
    "Brain Games — 4.362\n",
    "Puzzle — 4.386\n",
    "Art & Design — 4.349\n",
    "Books & Reference — 4.344\n",
    "\n",
    "Жанры с низким рейтингом:\n",
    "Dating — 3.97\n",
    "Tools — 4.05\n",
    "Trivia — 4.04\n",
    "'''"
   ]
  },
  {
   "attachments": {},
   "cell_type": "markdown",
   "metadata": {},
   "source": [
    "10. Из получившегося датафрейма выведите на экран только те жанры, чей медианный рейтинг больше 4.5. Напишите краткий вывод."
   ]
  },
  {
   "cell_type": "code",
   "execution_count": 40,
   "metadata": {},
   "outputs": [
    {
     "name": "stdout",
     "output_type": "stream",
     "text": [
      "Empty DataFrame\n",
      "Columns: [Genre, Average_Rating, Median_Rating]\n",
      "Index: []\n"
     ]
    },
    {
     "data": {
      "text/plain": [
       "' \\nВ моем df нет жанров с медианой выше 4.5. Поэтому вывод пустой\\n'"
      ]
     },
     "execution_count": 40,
     "metadata": {},
     "output_type": "execute_result"
    }
   ],
   "source": [
    "high_median_genres = grouped_df[grouped_df['Median_Rating'] > 4.5]\n",
    "\n",
    "print(high_median_genres)\n",
    "''' \n",
    "В моем df нет жанров с медианой выше 4.5. Поэтому вывод пустой\n",
    "'''"
   ]
  },
  {
   "attachments": {},
   "cell_type": "markdown",
   "metadata": {},
   "source": [
    "11. Выведете кол-во дубликатов в основном DataFrame (df) и удалите их "
   ]
  },
  {
   "cell_type": "code",
   "execution_count": 41,
   "metadata": {},
   "outputs": [
    {
     "name": "stdout",
     "output_type": "stream",
     "text": [
      "Количество дубликатов в df: 474\n",
      "Количество дубликатов после удаления: 0\n"
     ]
    }
   ],
   "source": [
    "num_duplicates = df.duplicated().sum()\n",
    "print(\"Количество дубликатов в df:\", num_duplicates)\n",
    "\n",
    "df = df.drop_duplicates()\n",
    "\n",
    "print(\"Количество дубликатов после удаления:\", df.duplicated().sum())"
   ]
  },
  {
   "attachments": {},
   "cell_type": "markdown",
   "metadata": {},
   "source": [
    "12. Посчитатайте какое количество приложений содержится в каждом жанре (value_counts).В получившемся Series выведите на экран 10 строк с наибольшим количеством приложений отсортированных по убыванию."
   ]
  },
  {
   "cell_type": "code",
   "execution_count": 42,
   "metadata": {},
   "outputs": [
    {
     "name": "stdout",
     "output_type": "stream",
     "text": [
      "Genres\n",
      "Tools              734\n",
      "Education          626\n",
      "Entertainment      537\n",
      "Action             364\n",
      "Productivity       334\n",
      "Finance            317\n",
      "Personalization    310\n",
      "Communication      308\n",
      "Lifestyle          306\n",
      "Photography        304\n",
      "Name: count, dtype: int64\n"
     ]
    }
   ],
   "source": [
    "\n",
    "df_exploded = df.copy()\n",
    "df_exploded = df_exploded.assign(Genres=df_exploded['Genres'].str.split(';')).explode('Genres')\n",
    "\n",
    "genre_counts = df_exploded['Genres'].value_counts()\n",
    "\n",
    "\n",
    "print(genre_counts.head(10))\n"
   ]
  },
  {
   "cell_type": "code",
   "execution_count": 43,
   "metadata": {},
   "outputs": [
    {
     "data": {
      "text/plain": [
       "'\\n----------]<-<---<-------<---------->>>>+[<<<---------,<---------------,++++++++++,-------,+,-------,>>--,------------------,,,-------,+++++++++,---------,+++++++++,-------,++++++,+,---------,++,\\n'"
      ]
     },
     "execution_count": 43,
     "metadata": {},
     "output_type": "execute_result"
    }
   ],
   "source": [
    "'''\n",
    "----------]<-<---<-------<---------->>>>+[<<<---------,<---------------,++++++++++,-------,+,-------,>>--,------------------,,,-------,+++++++++,---------,+++++++++,-------,++++++,+,---------,++,\n",
    "'''"
   ]
  }
 ],
 "metadata": {
  "kernelspec": {
   "display_name": ".venv",
   "language": "python",
   "name": "python3"
  },
  "language_info": {
   "codemirror_mode": {
    "name": "ipython",
    "version": 3
   },
   "file_extension": ".py",
   "mimetype": "text/x-python",
   "name": "python",
   "nbconvert_exporter": "python",
   "pygments_lexer": "ipython3",
   "version": "3.11.0"
  },
  "orig_nbformat": 4
 },
 "nbformat": 4,
 "nbformat_minor": 2
}
