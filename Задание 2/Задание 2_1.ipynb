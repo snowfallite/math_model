{
 "cells": [
  {
   "cell_type": "markdown",
   "metadata": {
    "colab_type": "text",
    "id": "m2Rz-BeQHdc6",
    "nteract": {
     "transient": {
      "deleting": false
     }
    }
   },
   "source": [
    "# Важно!\n",
    "\n",
    "Придерживайтесь эталонного вывода в коде каждого задания, чтобы избежать расхождений в трактовках условий задания."
   ]
  },
  {
   "cell_type": "code",
   "execution_count": 2,
   "metadata": {
    "colab": {},
    "colab_type": "code",
    "execution": {
     "iopub.execute_input": "2020-06-02T07:55:50.262Z",
     "iopub.status.busy": "2020-06-02T07:55:50.257Z",
     "iopub.status.idle": "2020-06-02T07:55:51.173Z",
     "shell.execute_reply": "2020-06-02T07:55:51.180Z"
    },
    "id": "mO0X92xdt8AI"
   },
   "outputs": [],
   "source": [
    "# загрузим библиотеки\n",
    "import numpy as np\n",
    "import pandas as pd"
   ]
  },
  {
   "cell_type": "markdown",
   "metadata": {
    "colab_type": "text",
    "id": "RvAr660Dtkzm"
   },
   "source": [
    "## Задание 1\n",
    "\n",
    "Создайте массив из 100 элементов (от 1 до 100), переформатируйте в формат (10 * 10), сделайте слайсинг с шагом 2 по каждой оси."
   ]
  },
  {
   "cell_type": "code",
   "execution_count": 3,
   "metadata": {
    "colab": {},
    "colab_type": "code",
    "execution": {
     "iopub.execute_input": "2020-06-02T07:57:43.742Z",
     "iopub.status.busy": "2020-06-02T07:57:43.739Z",
     "iopub.status.idle": "2020-06-02T07:57:43.750Z",
     "shell.execute_reply": "2020-06-02T07:57:43.753Z"
    },
    "id": "E68PUYqAs747",
    "outputId": "2190364d-dd47-49e2-ca66-55ba148a2ea1"
   },
   "outputs": [
    {
     "name": "stdout",
     "output_type": "stream",
     "text": [
      "массив от 1 до 100, 10х10, со слайсингом с шагом 2 по каждой оси:\n",
      " [[ 1  3  5  7  9]\n",
      " [21 23 25 27 29]\n",
      " [41 43 45 47 49]\n",
      " [61 63 65 67 69]\n",
      " [81 83 85 87 89]]\n"
     ]
    }
   ],
   "source": [
    "np_array = np.arange(1,101)\n",
    " \n",
    "print(f\"массив от 1 до 100, 10х10, со слайсингом с шагом 2 по каждой оси:\\n {np_array.reshape(10,10)[::2,::2]}\")\n"
   ]
  },
  {
   "cell_type": "markdown",
   "metadata": {
    "colab_type": "text",
    "id": "CsoFLFbutmQE"
   },
   "source": [
    "## Задание 2\n",
    "\n",
    "Написать функцию, которая по заданной длине последовательности находит среднее арифметическое ее членов. (Для соответсвия примеру вывода используйте длину length = 100_000_000)\n",
    "\n",
    "Реализуйте задачу с и без помощи numpy, сравните время выполнения\n",
    "\n",
    "Используйте выражение \n",
    "\n",
    "\n",
    "`%%time` \n",
    "\n",
    "в первой строчке ячейки кода для отображения времени выполнения ячейки\n",
    "\n",
    "Если возникамют ошибки с %%time - используйте код\n",
    "\n",
    "`\n",
    "from datetime import datetime\n",
    "start_time = datetime.now()\n",
    "---ваш код---\n",
    "print(datetime.now() - start_time)\n",
    "`"
   ]
  },
  {
   "cell_type": "code",
   "execution_count": 4,
   "metadata": {
    "colab": {},
    "colab_type": "code",
    "execution": {
     "iopub.execute_input": "2020-06-02T07:59:58.667Z",
     "iopub.status.busy": "2020-06-02T07:59:58.665Z",
     "iopub.status.idle": "2020-06-02T07:59:58.673Z",
     "shell.execute_reply": "2020-06-02T07:59:58.675Z"
    },
    "id": "ykruF0HWtmW3",
    "outputId": "d86fccbf-d595-4b29-c22d-110d03445818"
   },
   "outputs": [
    {
     "name": "stdout",
     "output_type": "stream",
     "text": [
      "--- NumPy ---\n",
      "Среднее арифметическое последовательности: 49999999.5\n",
      "Время: 0:00:00.330439 сек\n",
      "\n"
     ]
    }
   ],
   "source": [
    "from datetime import datetime\n",
    "\n",
    "def avg_numpy(length: int = 100_000_000) -> float:\n",
    "    arr = np.arange(0, length) \n",
    "    return np.mean(arr)\n",
    "\n",
    "\n",
    "print(\"--- NumPy ---\")\n",
    "start_time = datetime.now()\n",
    "print(\"Среднее арифметическое последовательности:\", avg_numpy())\n",
    "print(f\"Время: {datetime.now() - start_time} сек\\n\")\n",
    "\n"
   ]
  },
  {
   "cell_type": "code",
   "execution_count": 5,
   "metadata": {
    "colab": {},
    "colab_type": "code",
    "execution": {
     "iopub.execute_input": "2020-06-02T08:02:34.017Z",
     "iopub.status.busy": "2020-06-02T08:02:34.015Z",
     "iopub.status.idle": "2020-06-02T08:02:34.022Z",
     "shell.execute_reply": "2020-06-02T08:02:34.025Z"
    },
    "id": "LKGnz5iVuA7V",
    "outputId": "0ef655de-fac9-4920-e7a6-fe058720d9a1"
   },
   "outputs": [
    {
     "name": "stdout",
     "output_type": "stream",
     "text": [
      "--- Чистый Python ---\n",
      "Среднее арифметическое последовательности: 49999999.5\n",
      "Время: 0:00:02.934743 сек\n"
     ]
    }
   ],
   "source": [
    "def avg_pure_python(length: int = 100_000_000) -> float:\n",
    "    return sum(range(0, length)) / length\n",
    "\n",
    "print(\"--- Чистый Python ---\")\n",
    "start_time = datetime.now()\n",
    "print(\"Среднее арифметическое последовательности:\", avg_pure_python())\n",
    "print(f\"Время: {datetime.now() - start_time} сек\")"
   ]
  },
  {
   "cell_type": "markdown",
   "metadata": {
    "colab_type": "text",
    "id": "KBSohg6XHddU",
    "nteract": {
     "transient": {
      "deleting": false
     }
    }
   },
   "source": [
    "Если все сделано верно, то можно заметить, что у нампай скорость выполнения заметно выше питона "
   ]
  },
  {
   "cell_type": "markdown",
   "metadata": {
    "colab_type": "text",
    "id": "yBYPAaYJtmdW"
   },
   "source": [
    "## Задание 3\n",
    "\n",
    "Задан Series объект s, найти индекс первого элемента отсортированного s, где значения больше 5\n",
    "\n",
    "Изначальный код:\n",
    "\n",
    "`\n",
    "r = np.random.RandomState(1)\n",
    "s=pd.Series(r.uniform(0, 10, 100))\n",
    "`"
   ]
  },
  {
   "cell_type": "code",
   "execution_count": 6,
   "metadata": {
    "colab": {},
    "colab_type": "code",
    "execution": {
     "iopub.execute_input": "2020-06-02T08:04:21.808Z",
     "iopub.status.busy": "2020-06-02T08:04:21.806Z",
     "iopub.status.idle": "2020-06-02T08:04:21.813Z",
     "shell.execute_reply": "2020-06-02T08:04:21.816Z"
    },
    "id": "gqiIWcIctmja",
    "outputId": "aef7e3c8-91ca-49a0-da64-f236e57438b8"
   },
   "outputs": [
    {
     "name": "stdout",
     "output_type": "stream",
     "text": [
      "Индекс первого элемента отсортированного s : 67\n"
     ]
    }
   ],
   "source": [
    "# задано изначально\n",
    "# генерируем один и тот же список\n",
    "r = np.random.RandomState(1)\n",
    "s=pd.Series(r.uniform(0, 10, 100))\n",
    "\n",
    "s_sorted = s.sort_values()\n",
    "index_first = s_sorted[s_sorted > 5].index[0]\n",
    "print(f\"Индекс первого элемента отсортированного s : {index_first}\")\n",
    "\n",
    "\n"
   ]
  },
  {
   "cell_type": "markdown",
   "metadata": {
    "colab_type": "text",
    "id": "lkk7fksLtm0p"
   },
   "source": [
    "## Задание 4\n",
    "\n",
    "Имеется небольшой игрушечный датафрейм, в котором необходимо провести несколько типов фильтраций (ответы ищите в решениях) и отобразить результат:\n",
    "\n",
    "* всех, кто старше 40\n",
    "* всех, кто имеет доход выше среднего по датасету\n",
    "* всех, кто имеет доход выше среднего по датасету, но надежность ниже среднего по датасету\n",
    "\n",
    "создать новые столбцы:\n",
    "\n",
    "* важность клиента = доход * надежность\n",
    "* возможная долгосрочность клиента = важность клиента * (средний возраст по датасету - возраст клиента)\n",
    "\n",
    "`подсказка: двойные условия записываются так: (условие 1) & (условие 2)`\n",
    "\n",
    "\n",
    "** примечание: столбцы не имеют отношения к реальным формулам или моделям, они необходимы только для наглядности"
   ]
  },
  {
   "cell_type": "code",
   "execution_count": 7,
   "metadata": {
    "colab": {},
    "colab_type": "code",
    "execution": {
     "iopub.execute_input": "2020-06-02T08:11:06.827Z",
     "iopub.status.busy": "2020-06-02T08:11:06.824Z",
     "iopub.status.idle": "2020-06-02T08:11:06.837Z",
     "shell.execute_reply": "2020-06-02T08:11:06.848Z"
    },
    "id": "E3PkAP5atm7L",
    "outputId": "21d62b92-90a2-4e9d-ac2e-581de3d3498c"
   },
   "outputs": [
    {
     "name": "stdout",
     "output_type": "stream",
     "text": [
      "------------------------------------------------------------------------\n",
      "Все, кто старше 40 : \n",
      "    имя  возраст   доход  надежность клиента (0..1)  пол\n",
      "0  Петя       45  100000                       0.65  муж\n",
      "2   Аня       41  150000                       0.87  жен\n",
      "------------------------------------------------------------------------\n",
      "Средний доход : 97500.0\n",
      "Все, кто имеет доход выше среднего :\n",
      "     имя  возраст   доход  надежность клиента (0..1)  пол\n",
      "0  Петя       45  100000                       0.65  муж\n",
      "2   Аня       41  150000                       0.87  жен\n",
      "------------------------------------------------------------------------\n",
      "Средняя надежность : 0.7350000000000001\n",
      "Все, кто имеет доход выше среднего, но надежность ниже среднего : \n",
      "     имя  возраст   доход  надежность клиента (0..1)  пол\n",
      "0  Петя       45  100000                       0.65  муж\n",
      "------------------------------------------------------------------------\n",
      "Средний возраст : 33.25\n",
      "Обновлённый df:\n",
      "      имя  возраст   доход  надежность клиента (0..1)  пол  важность клиента  возможная долгосрочность клиента\n",
      "0   Петя       45  100000                       0.65  муж           65000.0                         -763750.0\n",
      "1   Вася       26   80000                       0.74  муж           59200.0                          429200.0\n",
      "2    Аня       41  150000                       0.87  жен          130500.0                        -1011375.0\n",
      "3  Света       21   60000                       0.68  жен           40800.0                          499800.0\n"
     ]
    }
   ],
   "source": [
    "# создадим тестовый датасет\n",
    "df = pd.DataFrame({\n",
    "    'имя': ['Петя', 'Вася', 'Аня', 'Света'],\n",
    "    'возраст': [45, 26, 41 , 21],\n",
    "    'доход': [100000, 80000, 150000, 60000],\n",
    "    'надежность клиента (0..1)': [0.65, 0.74, 0.87, 0.68],\n",
    "    'пол': ['муж', 'муж', 'жен', 'жен']},\n",
    "    index=[0, 1, 2, 3])\n",
    "\n",
    "print(f\"------------------------------------------------------------------------\")\n",
    "print(f\"Все, кто старше 40 : \\n{df[df['возраст'] > 40]}\")\n",
    "mean_income = df['доход'].mean()\n",
    "print(f\"------------------------------------------------------------------------\")\n",
    "print(f\"Средний доход : {mean_income}\")\n",
    "print(f\"Все, кто имеет доход выше среднего :\\n {df[df['доход'] > mean_income]}\")\n",
    "print(f\"------------------------------------------------------------------------\")\n",
    "mean_reliability = df['надежность клиента (0..1)'].mean()\n",
    "print(f\"Средняя надежность : {mean_reliability}\")\n",
    "income_high_reliability_low = df[(df['доход'] > mean_income) & \n",
    "                                 (df['надежность клиента (0..1)'] < mean_reliability)]\n",
    "print(f\"Все, кто имеет доход выше среднего, но надежность ниже среднего : \\n {income_high_reliability_low}\")\n",
    "print(f\"------------------------------------------------------------------------\")\n",
    "df['важность клиента'] = df['доход'] * df['надежность клиента (0..1)']\n",
    "mean_age = df['возраст'].mean()\n",
    "print(f\"Средний возраст : {mean_age}\")\n",
    "df['возможная долгосрочность клиента'] = df['важность клиента'] * (mean_age - df['возраст'])\n",
    "\n",
    "print(\"Обновлённый df:\\n\", df.to_string())"
   ]
  },
  {
   "cell_type": "markdown",
   "metadata": {
    "colab_type": "text",
    "id": "SxYDVNpYtnAp"
   },
   "source": [
    "## Задание 5\n",
    "\n",
    "Используя материалы данных Титаника вывести имена всех выживших детей (до 18 лет) и их количество\n",
    "\n",
    "Изначальный код:\n",
    "\n",
    "data = pd.read_csv('https://web.stanford.edu/class/archive/cs/cs109/cs109.1166/stuff/titanic.csv')\n",
    "\n",
    "data.head()"
   ]
  },
  {
   "cell_type": "code",
   "execution_count": 8,
   "metadata": {
    "colab": {
     "base_uri": "https://localhost:8080/",
     "height": 202
    },
    "colab_type": "code",
    "execution": {
     "iopub.execute_input": "2020-06-02T08:12:49.627Z",
     "iopub.status.busy": "2020-06-02T08:12:49.624Z",
     "iopub.status.idle": "2020-06-02T08:12:50.666Z",
     "shell.execute_reply": "2020-06-02T08:12:50.670Z"
    },
    "id": "LAwKsFvYtnFR",
    "outputId": "250563b0-0ea0-43c4-ee19-c7f15c518fb0"
   },
   "outputs": [
    {
     "data": {
      "text/html": [
       "<div>\n",
       "<style scoped>\n",
       "    .dataframe tbody tr th:only-of-type {\n",
       "        vertical-align: middle;\n",
       "    }\n",
       "\n",
       "    .dataframe tbody tr th {\n",
       "        vertical-align: top;\n",
       "    }\n",
       "\n",
       "    .dataframe thead th {\n",
       "        text-align: right;\n",
       "    }\n",
       "</style>\n",
       "<table border=\"1\" class=\"dataframe\">\n",
       "  <thead>\n",
       "    <tr style=\"text-align: right;\">\n",
       "      <th></th>\n",
       "      <th>Survived</th>\n",
       "      <th>Pclass</th>\n",
       "      <th>Name</th>\n",
       "      <th>Sex</th>\n",
       "      <th>Age</th>\n",
       "      <th>Siblings/Spouses Aboard</th>\n",
       "      <th>Parents/Children Aboard</th>\n",
       "      <th>Fare</th>\n",
       "    </tr>\n",
       "  </thead>\n",
       "  <tbody>\n",
       "    <tr>\n",
       "      <th>0</th>\n",
       "      <td>0</td>\n",
       "      <td>3</td>\n",
       "      <td>Mr. Owen Harris Braund</td>\n",
       "      <td>male</td>\n",
       "      <td>22.0</td>\n",
       "      <td>1</td>\n",
       "      <td>0</td>\n",
       "      <td>7.2500</td>\n",
       "    </tr>\n",
       "    <tr>\n",
       "      <th>1</th>\n",
       "      <td>1</td>\n",
       "      <td>1</td>\n",
       "      <td>Mrs. John Bradley (Florence Briggs Thayer) Cum...</td>\n",
       "      <td>female</td>\n",
       "      <td>38.0</td>\n",
       "      <td>1</td>\n",
       "      <td>0</td>\n",
       "      <td>71.2833</td>\n",
       "    </tr>\n",
       "    <tr>\n",
       "      <th>2</th>\n",
       "      <td>1</td>\n",
       "      <td>3</td>\n",
       "      <td>Miss. Laina Heikkinen</td>\n",
       "      <td>female</td>\n",
       "      <td>26.0</td>\n",
       "      <td>0</td>\n",
       "      <td>0</td>\n",
       "      <td>7.9250</td>\n",
       "    </tr>\n",
       "    <tr>\n",
       "      <th>3</th>\n",
       "      <td>1</td>\n",
       "      <td>1</td>\n",
       "      <td>Mrs. Jacques Heath (Lily May Peel) Futrelle</td>\n",
       "      <td>female</td>\n",
       "      <td>35.0</td>\n",
       "      <td>1</td>\n",
       "      <td>0</td>\n",
       "      <td>53.1000</td>\n",
       "    </tr>\n",
       "    <tr>\n",
       "      <th>4</th>\n",
       "      <td>0</td>\n",
       "      <td>3</td>\n",
       "      <td>Mr. William Henry Allen</td>\n",
       "      <td>male</td>\n",
       "      <td>35.0</td>\n",
       "      <td>0</td>\n",
       "      <td>0</td>\n",
       "      <td>8.0500</td>\n",
       "    </tr>\n",
       "  </tbody>\n",
       "</table>\n",
       "</div>"
      ],
      "text/plain": [
       "   Survived  Pclass                                               Name  \\\n",
       "0         0       3                             Mr. Owen Harris Braund   \n",
       "1         1       1  Mrs. John Bradley (Florence Briggs Thayer) Cum...   \n",
       "2         1       3                              Miss. Laina Heikkinen   \n",
       "3         1       1        Mrs. Jacques Heath (Lily May Peel) Futrelle   \n",
       "4         0       3                            Mr. William Henry Allen   \n",
       "\n",
       "      Sex   Age  Siblings/Spouses Aboard  Parents/Children Aboard     Fare  \n",
       "0    male  22.0                        1                        0   7.2500  \n",
       "1  female  38.0                        1                        0  71.2833  \n",
       "2  female  26.0                        0                        0   7.9250  \n",
       "3  female  35.0                        1                        0  53.1000  \n",
       "4    male  35.0                        0                        0   8.0500  "
      ]
     },
     "execution_count": 8,
     "metadata": {},
     "output_type": "execute_result"
    }
   ],
   "source": [
    "data = pd.read_csv('titanic.csv')\n",
    "\n",
    "data.head()"
   ]
  },
  {
   "cell_type": "code",
   "execution_count": 9,
   "metadata": {
    "colab": {},
    "colab_type": "code",
    "execution": {
     "iopub.execute_input": "2020-06-02T08:13:25.447Z",
     "iopub.status.busy": "2020-06-02T08:13:25.443Z",
     "iopub.status.idle": "2020-06-02T08:13:25.457Z",
     "shell.execute_reply": "2020-06-02T08:13:25.460Z"
    },
    "id": "6naKUP91uhqM",
    "outputId": "9c65a315-81f9-4002-8c79-f0f83cb4c1bb"
   },
   "outputs": [
    {
     "name": "stdout",
     "output_type": "stream",
     "text": [
      "Количество выживших детей : 65\n"
     ]
    },
    {
     "data": {
      "text/html": [
       "<div>\n",
       "<style scoped>\n",
       "    .dataframe tbody tr th:only-of-type {\n",
       "        vertical-align: middle;\n",
       "    }\n",
       "\n",
       "    .dataframe tbody tr th {\n",
       "        vertical-align: top;\n",
       "    }\n",
       "\n",
       "    .dataframe thead th {\n",
       "        text-align: right;\n",
       "    }\n",
       "</style>\n",
       "<table border=\"1\" class=\"dataframe\">\n",
       "  <thead>\n",
       "    <tr style=\"text-align: right;\">\n",
       "      <th></th>\n",
       "      <th>Survived</th>\n",
       "      <th>Pclass</th>\n",
       "      <th>Name</th>\n",
       "      <th>Sex</th>\n",
       "      <th>Age</th>\n",
       "      <th>Siblings/Spouses Aboard</th>\n",
       "      <th>Parents/Children Aboard</th>\n",
       "      <th>Fare</th>\n",
       "    </tr>\n",
       "  </thead>\n",
       "  <tbody>\n",
       "    <tr>\n",
       "      <th>9</th>\n",
       "      <td>1</td>\n",
       "      <td>2</td>\n",
       "      <td>Mrs. Nicholas (Adele Achem) Nasser</td>\n",
       "      <td>female</td>\n",
       "      <td>14.00</td>\n",
       "      <td>1</td>\n",
       "      <td>0</td>\n",
       "      <td>30.0708</td>\n",
       "    </tr>\n",
       "    <tr>\n",
       "      <th>10</th>\n",
       "      <td>1</td>\n",
       "      <td>3</td>\n",
       "      <td>Miss. Marguerite Rut Sandstrom</td>\n",
       "      <td>female</td>\n",
       "      <td>4.00</td>\n",
       "      <td>1</td>\n",
       "      <td>1</td>\n",
       "      <td>16.7000</td>\n",
       "    </tr>\n",
       "    <tr>\n",
       "      <th>22</th>\n",
       "      <td>1</td>\n",
       "      <td>3</td>\n",
       "      <td>Miss. Anna McGowan</td>\n",
       "      <td>female</td>\n",
       "      <td>15.00</td>\n",
       "      <td>0</td>\n",
       "      <td>0</td>\n",
       "      <td>8.0292</td>\n",
       "    </tr>\n",
       "    <tr>\n",
       "      <th>39</th>\n",
       "      <td>1</td>\n",
       "      <td>3</td>\n",
       "      <td>Miss. Jamila Nicola-Yarred</td>\n",
       "      <td>female</td>\n",
       "      <td>14.00</td>\n",
       "      <td>1</td>\n",
       "      <td>0</td>\n",
       "      <td>11.2417</td>\n",
       "    </tr>\n",
       "    <tr>\n",
       "      <th>42</th>\n",
       "      <td>1</td>\n",
       "      <td>2</td>\n",
       "      <td>Miss. Simonne Marie Anne Andree Laroche</td>\n",
       "      <td>female</td>\n",
       "      <td>3.00</td>\n",
       "      <td>1</td>\n",
       "      <td>2</td>\n",
       "      <td>41.5792</td>\n",
       "    </tr>\n",
       "    <tr>\n",
       "      <th>...</th>\n",
       "      <td>...</td>\n",
       "      <td>...</td>\n",
       "      <td>...</td>\n",
       "      <td>...</td>\n",
       "      <td>...</td>\n",
       "      <td>...</td>\n",
       "      <td>...</td>\n",
       "      <td>...</td>\n",
       "    </tr>\n",
       "    <tr>\n",
       "      <th>826</th>\n",
       "      <td>1</td>\n",
       "      <td>3</td>\n",
       "      <td>Mrs. Antoni (Selini Alexander) Yasbeck</td>\n",
       "      <td>female</td>\n",
       "      <td>15.00</td>\n",
       "      <td>1</td>\n",
       "      <td>0</td>\n",
       "      <td>14.4542</td>\n",
       "    </tr>\n",
       "    <tr>\n",
       "      <th>827</th>\n",
       "      <td>1</td>\n",
       "      <td>2</td>\n",
       "      <td>Master. George Sibley Richards</td>\n",
       "      <td>male</td>\n",
       "      <td>0.83</td>\n",
       "      <td>1</td>\n",
       "      <td>1</td>\n",
       "      <td>18.7500</td>\n",
       "    </tr>\n",
       "    <tr>\n",
       "      <th>849</th>\n",
       "      <td>1</td>\n",
       "      <td>1</td>\n",
       "      <td>Miss. Mary Conover Lines</td>\n",
       "      <td>female</td>\n",
       "      <td>16.00</td>\n",
       "      <td>0</td>\n",
       "      <td>1</td>\n",
       "      <td>39.4000</td>\n",
       "    </tr>\n",
       "    <tr>\n",
       "      <th>865</th>\n",
       "      <td>1</td>\n",
       "      <td>3</td>\n",
       "      <td>Master. Harold Theodor Johnson</td>\n",
       "      <td>male</td>\n",
       "      <td>4.00</td>\n",
       "      <td>1</td>\n",
       "      <td>1</td>\n",
       "      <td>11.1333</td>\n",
       "    </tr>\n",
       "    <tr>\n",
       "      <th>871</th>\n",
       "      <td>1</td>\n",
       "      <td>3</td>\n",
       "      <td>Miss. Adele Kiamie Najib</td>\n",
       "      <td>female</td>\n",
       "      <td>15.00</td>\n",
       "      <td>0</td>\n",
       "      <td>0</td>\n",
       "      <td>7.2250</td>\n",
       "    </tr>\n",
       "  </tbody>\n",
       "</table>\n",
       "<p>65 rows × 8 columns</p>\n",
       "</div>"
      ],
      "text/plain": [
       "     Survived  Pclass                                     Name     Sex    Age  \\\n",
       "9           1       2       Mrs. Nicholas (Adele Achem) Nasser  female  14.00   \n",
       "10          1       3           Miss. Marguerite Rut Sandstrom  female   4.00   \n",
       "22          1       3                       Miss. Anna McGowan  female  15.00   \n",
       "39          1       3               Miss. Jamila Nicola-Yarred  female  14.00   \n",
       "42          1       2  Miss. Simonne Marie Anne Andree Laroche  female   3.00   \n",
       "..        ...     ...                                      ...     ...    ...   \n",
       "826         1       3   Mrs. Antoni (Selini Alexander) Yasbeck  female  15.00   \n",
       "827         1       2           Master. George Sibley Richards    male   0.83   \n",
       "849         1       1                 Miss. Mary Conover Lines  female  16.00   \n",
       "865         1       3           Master. Harold Theodor Johnson    male   4.00   \n",
       "871         1       3                 Miss. Adele Kiamie Najib  female  15.00   \n",
       "\n",
       "     Siblings/Spouses Aboard  Parents/Children Aboard     Fare  \n",
       "9                          1                        0  30.0708  \n",
       "10                         1                        1  16.7000  \n",
       "22                         0                        0   8.0292  \n",
       "39                         1                        0  11.2417  \n",
       "42                         1                        2  41.5792  \n",
       "..                       ...                      ...      ...  \n",
       "826                        1                        0  14.4542  \n",
       "827                        1                        1  18.7500  \n",
       "849                        0                        1  39.4000  \n",
       "865                        1                        1  11.1333  \n",
       "871                        0                        0   7.2250  \n",
       "\n",
       "[65 rows x 8 columns]"
      ]
     },
     "execution_count": 9,
     "metadata": {},
     "output_type": "execute_result"
    }
   ],
   "source": [
    "# отображаем количество выживших детей\n",
    "\n",
    "child_surv = data[(data.Age < 18) & (data.Survived == 1)] \n",
    "print(f\"Количество выживших детей : {len(child_surv)}\")\n",
    "child_surv"
   ]
  },
  {
   "cell_type": "code",
   "execution_count": 10,
   "metadata": {
    "colab": {},
    "colab_type": "code",
    "execution": {
     "iopub.execute_input": "2020-06-02T08:14:28.517Z",
     "iopub.status.busy": "2020-06-02T08:14:28.513Z",
     "iopub.status.idle": "2020-06-02T08:14:28.525Z",
     "shell.execute_reply": "2020-06-02T08:14:28.528Z"
    },
    "id": "EUsAbUlvHdeV",
    "jupyter": {
     "outputs_hidden": false,
     "source_hidden": false
    },
    "nteract": {
     "transient": {
      "deleting": false
     }
    },
    "outputId": "579c9d98-e7be-4c49-badf-4c537d6a6e5c"
   },
   "outputs": [
    {
     "name": "stdout",
     "output_type": "stream",
     "text": [
      "Имена выживших детей:\n"
     ]
    },
    {
     "data": {
      "text/plain": [
       "9           Mrs. Nicholas (Adele Achem) Nasser\n",
       "10              Miss. Marguerite Rut Sandstrom\n",
       "22                          Miss. Anna McGowan\n",
       "39                  Miss. Jamila Nicola-Yarred\n",
       "42     Miss. Simonne Marie Anne Andree Laroche\n",
       "                        ...                   \n",
       "826     Mrs. Antoni (Selini Alexander) Yasbeck\n",
       "827             Master. George Sibley Richards\n",
       "849                   Miss. Mary Conover Lines\n",
       "865             Master. Harold Theodor Johnson\n",
       "871                   Miss. Adele Kiamie Najib\n",
       "Name: Name, Length: 65, dtype: object"
      ]
     },
     "execution_count": 10,
     "metadata": {},
     "output_type": "execute_result"
    }
   ],
   "source": [
    "# отображаем их имена\n",
    "print(\"Имена выживших детей:\")\n",
    "child_surv.Name\n"
   ]
  },
  {
   "cell_type": "code",
   "execution_count": 11,
   "metadata": {},
   "outputs": [],
   "source": [
    "#~D:A@G aaah_h_f`_hf"
   ]
  }
 ],
 "metadata": {
  "colab": {
   "collapsed_sections": [],
   "name": "задания_модуль2.ipynb",
   "provenance": []
  },
  "kernelspec": {
   "display_name": ".venv",
   "language": "python",
   "name": "python3"
  },
  "language_info": {
   "codemirror_mode": {
    "name": "ipython",
    "version": 3
   },
   "file_extension": ".py",
   "mimetype": "text/x-python",
   "name": "python",
   "nbconvert_exporter": "python",
   "pygments_lexer": "ipython3",
   "version": "3.11.0"
  },
  "nteract": {
   "version": "0.23.3"
  }
 },
 "nbformat": 4,
 "nbformat_minor": 1
}
